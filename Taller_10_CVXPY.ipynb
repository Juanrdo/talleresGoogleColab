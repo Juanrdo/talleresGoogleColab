{
  "nbformat": 4,
  "nbformat_minor": 0,
  "metadata": {
    "colab": {
      "provenance": [],
      "include_colab_link": true
    },
    "kernelspec": {
      "name": "python3",
      "display_name": "Python 3"
    }
  },
  "cells": [
    {
      "cell_type": "markdown",
      "metadata": {
        "id": "view-in-github",
        "colab_type": "text"
      },
      "source": [
        "<a href=\"https://colab.research.google.com/github/Juanrdo/talleresGoogleColab/blob/main/Taller_10_CVXPY.ipynb\" target=\"_parent\"><img src=\"https://colab.research.google.com/assets/colab-badge.svg\" alt=\"Open In Colab\"/></a>"
      ]
    },
    {
      "cell_type": "markdown",
      "source": [
        "## «Solo se puede tener fe en la duda»\n",
        "### [Jorge Wagensberg](https://es.wikipedia.org/wiki/Jorge_Wagensberg)"
      ],
      "metadata": {
        "id": "cr-wZpWhC2dt"
      }
    },
    {
      "metadata": {
        "id": "tpFFfpLa7D_R"
      },
      "cell_type": "markdown",
      "source": [
        "# Taller 10 CVXPY\n",
        "\n",
        "En este taller aprenderá los conceptos básicos de Python 3 relativos a la librería CVXPY.\n",
        "\n",
        "CVXPY  **no es una librería nativa** de Python por lo que **requiere ser instalada antes de ser invocada**. Sin embargo, esta librería sí está preinstalada en Google Colaboratory por lo que basta invocarla para poder usar sus funcionalidades.\n",
        "\n",
        "Puede consultar mayor información en: [CVXPY](https://www.cvxpy.org/)\n"
      ]
    },
    {
      "cell_type": "markdown",
      "source": [
        "## Características generales de CVXPY\n",
        "\n",
        "CVXPY  es un lenguaje de modelado para [optimización de problemas convexos](https://web.stanford.edu/~boyd/cvxbook/), que funciona como una librería de Python.\n",
        "\n",
        "Su principal ventaja es que permite la formulación de problemas por medio de expresiones algebraicas o matriciales. CVXPY automáticamente transforma el problema a su forma estándar, lo resuelve por medio de un  [solvers](https://en.wikipedia.org/wiki/Solver), y entrega los resultados.\n",
        "\n",
        "Es decir, simplifica el proceso de optimización computacional ya que es capaz de resolver el problema sin necesidad de convertirlo a las formas estándares requeridas por los [solvers](https://en.wikipedia.org/wiki/Solver).\n",
        "\n",
        "## Página oficial\n",
        "La información oficial de CVXPY puede ser consultada en [www.cvxpy.org](http://www.cvxpy.org)"
      ],
      "metadata": {
        "id": "Q1cx54I9GtOj"
      }
    },
    {
      "metadata": {
        "id": "Qqb6pVqSpExP"
      },
      "cell_type": "markdown",
      "source": [
        "## Tipos de variables en CVXPY\n",
        "\n",
        "CVXPY permite crear variables, parámetros escalares y arreglos (vectores y matrices); para tal efecto sigue la sintaxis (formatos) de la librería [NumPy](https://docs.scipy.org/doc/numpy/index.html).\n"
      ]
    },
    {
      "metadata": {
        "id": "jFPNMR1rpR-c"
      },
      "cell_type": "code",
      "source": [
        "# Importar la librería que se va a utilizar\n",
        "import cvxpy as cvx\n",
        "\n",
        "# Crear una variable de tipo escalar\n",
        "var_esc = cvx.Variable()\n",
        "\n",
        "# Crear una variable escalar con restricción de no negatividad\n",
        "var_esc_no_neg = cvx.Variable(nonneg = True)\n",
        "\n",
        "# Crear una variable escalar entera\n",
        "var_esc_ent = cvx.Variable(integer=True)\n",
        "\n",
        "# Crear un parámetro con un valor específico\n",
        "b = 8\n",
        "\n",
        "# Crear una variable de tipo arreglo (m,1). Contiene \"m\" filas y una columna\n",
        "c = cvx.Variable((3,1))\n",
        "\n",
        "# Crear una parámetro de tipo arreglo (m,1) con valores específicos\n",
        "d = [3, 2, 4]\n",
        "\n",
        "# Crear una variable de tipo arreglo (m,n). Contiene \"m\" filas y \"n\" columnas\n",
        "e = cvx.Variable((4, 3))\n",
        "\n",
        "# Crear un parámetro de tipo arreglo (m,n) con valores específicos\n",
        "f = [[5, 6, 7],[2, 6, 9],[3, 8, 5],[9, 5,1 ]]"
      ],
      "execution_count": 1,
      "outputs": []
    },
    {
      "cell_type": "markdown",
      "source": [
        "## Ejemplo 00: minimizar sujeto a restricciones\n",
        "\n",
        "Minimizar 3x + 8y\n",
        "\n",
        "sujeto a:\n",
        "\n",
        "x + y >= 50\n",
        "\n",
        "x - y <= 20\n",
        "\n",
        "x, y no negativos"
      ],
      "metadata": {
        "id": "LdmJshTLGPlm"
      }
    },
    {
      "cell_type": "code",
      "source": [
        "# Importar la librería que se va a utilizar\n",
        "import cvxpy as cvx\n",
        "\n",
        "# Crear las variables de decisión y establecer restricciones de no negatividad\n",
        "x = cvx.Variable(nonneg = True)\n",
        "y = cvx.Variable(nonneg = True)\n",
        "\n",
        "# Definir la función objetivo\n",
        "obj_00 = cvx.Minimize(3*x + 8*y)\n",
        "\n",
        "# Establecer las restricciones\n",
        "constraints_00 = [\n",
        "\n",
        "x + y >= 50,\n",
        "\n",
        "x - y <= 20\n",
        "]\n",
        "\n",
        "# Configurar el problema\n",
        "problema_00 = cvx.Problem(obj_00, constraints_00)\n",
        "\n",
        "# Obtener el valor óptimo\n",
        "problema_00.solve()\n",
        "\n",
        "# Mostrar el estado de la solución\n",
        "print(\"Estado de la solución:\", problema_00.status)\n",
        "\n",
        "# Mostrar el valor óptimo de la función objetivo\n",
        "print(\"Valor óptimo de la función objetivo:\", problema_00.value)\n",
        "\n",
        "# Mostrar los valores óptimos de las variables de decisión\n",
        "print(\"Valores óptimos de las variables de decisión:\", x.value, y.value)"
      ],
      "metadata": {
        "id": "Qd11Sd6JHXhk",
        "colab": {
          "base_uri": "https://localhost:8080/"
        },
        "outputId": "ef42925e-d065-4400-a255-7eb1f9fc4a56"
      },
      "execution_count": 5,
      "outputs": [
        {
          "output_type": "stream",
          "name": "stdout",
          "text": [
            "Estado de la solución: optimal\n",
            "Valor óptimo de la función objetivo: 224.9999996816037\n",
            "Valores óptimos de las variables de decisión: 35.00000000022704 14.999999960115321\n"
          ]
        }
      ]
    },
    {
      "cell_type": "markdown",
      "source": [
        "## Dualidad en CVXPY\n",
        "\n",
        "CVXPY resuelve el problema dual de manera automática cada vez que se invoca el método **problem.solve()**.\n",
        "\n",
        "Para conocer la solución del dual se utiliza el **método constraints[i].dual_value**"
      ],
      "metadata": {
        "id": "a9DH2cw5P__K"
      }
    },
    {
      "cell_type": "code",
      "source": [
        "# Mostrar los resultados del dual para cada restricción\n",
        "\n",
        "print(\"Valor óptimo de la variable dual de x + y >= 50\")\n",
        "print(constraints_00[0].dual_value)\n",
        "\n",
        "print(\"\\nValor óptimo de la variable dual de x - y <= 20\")\n",
        "print(constraints_00[1].dual_value)"
      ],
      "metadata": {
        "id": "0cExI0SmRCDC",
        "colab": {
          "base_uri": "https://localhost:8080/"
        },
        "outputId": "9afc0cfc-6ffe-48c4-ba5b-a56638ca8181"
      },
      "execution_count": 3,
      "outputs": [
        {
          "output_type": "stream",
          "name": "stdout",
          "text": [
            "Valor óptimo de la variable dual de x + y >= 50\n",
            "5.499999993033483\n",
            "\n",
            "Valor óptimo de la variable dual de x - y <= 20\n",
            "2.4999999967707875\n"
          ]
        }
      ]
    },
    {
      "cell_type": "markdown",
      "source": [
        "# Los problemas en CVXPY son objetos INMUTABLES\n",
        "\n",
        "Es decir que no pueden ser modificados después de su creación. Si necesita hacer ajustes a un problema (agregar o eliminar variables, incluir o suprimir restricciones) defina un nuevo problema."
      ],
      "metadata": {
        "id": "gZaO7FpvIsjV"
      }
    },
    {
      "cell_type": "markdown",
      "source": [
        "## Ejemplo 01: Industrias Felicidad\n",
        "\n",
        "Industrias Felicidad S. A. produce mezcla para tortas utilizando un molino. Para producir una tonelada de mezcla para tortas se requieren dos horas de trabajo del molino y tres horas de trabajo en la sección de empacado.\n",
        "\n",
        "El molino solo puede estar en funcionamiento diez horas diarias, mientras que la sección de empacado puede trabajar hasta 16 horas diarias.\n",
        "\n",
        "Cada tonelada de mezcla para tortas se vende a 250.000 pesos y tiene un costo de producción de 180.000 pesos.\n",
        "\n",
        "Calcule la producción diaria de mezcla para tortas para maximizar el ingreso por ventas."
      ],
      "metadata": {
        "id": "-jgP9xx3Iu1_"
      }
    },
    {
      "cell_type": "code",
      "source": [
        "# Importar la librería que se va a utilizar\n",
        "import cvxpy as cvx\n",
        "\n",
        "# Crear la variable de decisión y la restricción de no negatividad\n",
        "q_torta = cvx.Variable(nonneg = True)\n",
        "\n",
        "# Definir la función objetivo para maximizar el ingreso\n",
        "obj_ind_fel = cvx.Maximize(250000*q_torta)\n",
        "\n",
        "# Establecer las restricciones\n",
        "restricciones_ind_fel = [\n",
        "\n",
        "# Restricción de capacidad de molino\n",
        "2*q_torta <= 10,\n",
        "\n",
        "# Restricción de capacidad de empacado\n",
        "3*q_torta<= 16\n",
        "]\n",
        "\n",
        "# Configurar el problema\n",
        "prob_ind_fel = cvx.Problem(obj_ind_fel, restricciones_ind_fel)\n",
        "\n",
        "# Obtener el valor óptimo\n",
        "prob_ind_fel.solve()\n",
        "\n",
        "# Mostrar el estado de la solución\n",
        "print(\"Estado de la solución:\", prob_ind_fel.status)\n",
        "\n",
        "# Mostrar el valor óptimo de la función objetivo\n",
        "print(\"Ingreso máximo:\", prob_ind_fel.value)\n",
        "\n",
        "# Mostrar los valores óptimos de las variables de decisión\n",
        "print(\"Cantidad de mezcla de tortas que maximiza el ingreso \\\n",
        "por ventas:\", q_torta.value)"
      ],
      "metadata": {
        "id": "KZrbP3LaUK4J",
        "colab": {
          "base_uri": "https://localhost:8080/"
        },
        "outputId": "a05c3418-660e-4e51-bca9-6d17896c13bb"
      },
      "execution_count": 6,
      "outputs": [
        {
          "output_type": "stream",
          "name": "stdout",
          "text": [
            "Estado de la solución: optimal\n",
            "Ingreso máximo: 1249999.9989153612\n",
            "Cantidad de mezcla de tortas que maximiza el ingreso por ventas: 4.999999995661445\n"
          ]
        }
      ]
    },
    {
      "metadata": {
        "id": "vC4A8CoVl6wo"
      },
      "cell_type": "markdown",
      "source": [
        "## Ejemplo 02: Compañía Reddy Mikks\n",
        "\n",
        "Tomado del libro de [TAHA, 2012](https://fad.unsa.edu.pe/bancayseguros/wp-content/uploads/sites/4/2019/03/investigacic3b3n-de-operaciones-9na-edicic3b3n-hamdy-a-taha-fl.pdf), ejemplo 2.1-1 página 13.\n",
        "\n",
        "Reddy Mikks se propone determinar la combinación óptima de pinturas para interiores y exteriores que maximice la utilidad diaria total.\n",
        "\n",
        "Variables de decisión:\n",
        "\n",
        "Xi = toneladas producidas diariamente de la pintura tipo i.\n",
        "Sea i {1 = para exteriores, 2 = para interiores}\n",
        "\n",
        "Función objetivo:\n",
        "Max Z = 5000X1 + 4000X2\n",
        "\n",
        "Restricciones:\n",
        "\n",
        "Consumo de M1 para ambas pinturas:  \t\t6X1 + 4X2 ≤ 24\n",
        "\n",
        "Consumo de M2 para ambas pinturas:\t \tX1 + 2X2 ≤ 6\n",
        "\n",
        "Límites de demanda diaria:\t\t\tX2 – X1  ≤ 1\n",
        "\n",
        "Límites de demanda diaria para pintura de interiores:\t\tX2  ≤ 2\n",
        "\n",
        "No negatividad:  \t\t\t Xi ≥ 0 para todo i\n"
      ]
    },
    {
      "metadata": {
        "id": "Jj3FjipalypH",
        "colab": {
          "base_uri": "https://localhost:8080/"
        },
        "outputId": "b2cbdbca-432f-4d32-8189-581cc4f0449b"
      },
      "cell_type": "code",
      "source": [
        "# Ejemplo 2.1-1 del libro de TAHA (Compañía Reddy Mikks)\n",
        "\n",
        "# Importar la librería que se va a utilizar\n",
        "import cvxpy as cvx\n",
        "\n",
        "# Crear las variables de decisión y las restricciones de no negatividad\n",
        "exterior = cvx.Variable(nonneg = True)\n",
        "interior = cvx.Variable(nonneg = True)\n",
        "\n",
        "# Definir la función objetivo para maximizar el ingreso\n",
        "obj_reddy_mikks = cvx.Maximize(5000*exterior + 4000*interior)\n",
        "\n",
        "# Establecer las restricciones\n",
        "restricciones_reddy_mikks = [\n",
        "\n",
        "# Consumo de materia prima M1\n",
        "6*exterior + 4*interior <= 24,\n",
        "\n",
        "# Consumo de materia prima M2\n",
        "1*exterior + 2*interior <= 6,\n",
        "\n",
        "# Límites de demanda diaria\n",
        "interior - exterior <= 1,\n",
        "\n",
        "# Demanda diaria para pintura de interiores\n",
        "interior <= 2\n",
        "]\n",
        "\n",
        "# Configurar el problema\n",
        "prob_reddy_mikks = cvx.Problem(obj_reddy_mikks, restricciones_reddy_mikks)\n",
        "\n",
        "# Obtener el valor óptimo\n",
        "prob_reddy_mikks.solve()\n",
        "\n",
        "# Mostrar el estado de la solución\n",
        "print(\"Estado de la solución:\", prob_reddy_mikks.status)\n",
        "\n",
        "# Mostrar el valor óptimo de la función objetivo sin aproximaciones\n",
        "print(\"Utilidad máxima SIN aproximaciones:\", prob_reddy_mikks.value)\n",
        "\n",
        "# Mostrar el valor óptimo de la función objetivo aproximado a dos decimales\n",
        "print(\"Utilidad máxima aproximada a dos decimales:\", \"%.2f\"% prob_reddy_mikks.value)\n",
        "\n",
        "# Mostrar los valores óptimos de las variables de decisión\n",
        "print(\"Toneladas producidas de pinturas para exteriores que optimizan las \\\n",
        "utilidades SIN aproximaciones:\", exterior.value)\n",
        "print(\"Toneladas producidas de pinturas para exteriores que optimizan las \\\n",
        "utilidades:\", \"%.2f\"% exterior.value)\n",
        "print(\"Toneladas producidas de pinturas para interiores que optimizan las \\\n",
        "utilidades SIN aproximaciones:\", interior.value)\n",
        "print(\"Toneladas producidas de pinturas para interiores que optimizan las \\\n",
        "utilidades:\", \"%.2f\"% interior.value)"
      ],
      "execution_count": null,
      "outputs": [
        {
          "output_type": "stream",
          "name": "stdout",
          "text": [
            "Estado de la solución: optimal\n",
            "Utilidad máxima SIN aproximaciones: 21000.00000034867\n",
            "Utilidad máxima aproximada a dos decimales: 21000.00\n",
            "Toneladas producidas de pinturas para exteriores que optimizan las utilidades SIN aproximaciones: 3.0000000014193864\n",
            "Toneladas producidas de pinturas para exteriores que optimizan las utilidades: 3.00\n",
            "Toneladas producidas de pinturas para interiores que optimizan las utilidades SIN aproximaciones: 1.4999999983129342\n",
            "Toneladas producidas de pinturas para interiores que optimizan las utilidades: 1.50\n"
          ]
        }
      ]
    },
    {
      "metadata": {
        "id": "HViZdbUvh3cU"
      },
      "cell_type": "markdown",
      "source": [
        "## Ejemplo 03: problema de la dieta\n",
        "\n",
        "Tomado del libro de [TAHA, 2012](https://fad.unsa.edu.pe/bancayseguros/wp-content/uploads/sites/4/2019/03/investigacic3b3n-de-operaciones-9na-edicic3b3n-hamdy-a-taha-fl.pdf), ejemplo 2.1-1 página 24.\n",
        "\n",
        "Variables de decisión:\n",
        "\n",
        "X1: Libras de maíz en la mezcla diaria\n",
        "\n",
        "X2: Libras de soya en la mezcla diaria\n",
        "\n",
        "Función objetivo:\t\tMinimizar Z=0,3X1+0,9X2\n",
        "\n",
        "Restricciones:\n",
        "\n",
        "Necesidades dietéticas de proteína\t\t0,09X1+0,6X2 ≥0,3(X1+X2)\n",
        "\n",
        "Necesidades dietéticas de fibra\t\t0,02X1+0,06X2 ≤0,05(X1+X2)\n",
        "\n",
        "Consumo mínimo de mezcla diaria\t\tX1+X2≥800\n",
        "\n",
        "No negatividad\t\t\t\tX1, X2 ≥0\n",
        "\n",
        "\n",
        "Organizando las ecuaciones se obtiene:\n",
        "\n",
        "Necesidades dietéticas de proteína\t\t0,21X1-0,30X2 ≤0\n",
        "\n",
        "Necesidades dietéticas de fibra\t\t0,03X1-0,01X2 ≥0\n",
        "\n",
        "Consumo mínimo de mezcla diaria\t\tX1+X2≥800\n",
        "\n",
        "No negatividad\t\t\t\tX1, X2 ≥0\n",
        "\n"
      ]
    },
    {
      "metadata": {
        "id": "DeKpD7K7k4GR",
        "colab": {
          "base_uri": "https://localhost:8080/"
        },
        "outputId": "871df3a1-1791-4426-9a8d-f8fe8973642d"
      },
      "cell_type": "code",
      "source": [
        "# Ejemplo 2.2-2 del libro de TAHA (Problema de la dieta)\n",
        "\n",
        "# Importar la librería que se va a utilizar\n",
        "import cvxpy as cvx\n",
        "\n",
        "# Crear las variables a optimizar\n",
        "maiz = cvx.Variable(nonneg = True)\n",
        "soya = cvx.Variable(nonneg = True)\n",
        "\n",
        "# Definir la función objetivo para minimizar el costo\n",
        "obj_dieta = cvx.Minimize(0.3*maiz + 0.9*soya)\n",
        "\n",
        "# Establecer las restricciones\n",
        "restricciones_dieta = [\n",
        "\n",
        "# Necesidades dietéticas de proteína\n",
        "0.21*maiz - 0.3*soya <= 0,\n",
        "\n",
        "# Necesidades dietéticas de fibra\n",
        "0.03*maiz - 0.01*soya >= 0,\n",
        "\n",
        "# Consumo mínimo de mezlca diaria\n",
        "soya + maiz >= 800\n",
        "]\n",
        "\n",
        "# Configurar el problema\n",
        "prob_dieta = cvx.Problem(obj_dieta, restricciones_dieta)\n",
        "\n",
        "# Obtener el valor óptimo\n",
        "prob_dieta.solve()\n",
        "\n",
        "# Mostrar el estado de la solución\n",
        "print(\"Estado de la solución:\", prob_dieta.status)\n",
        "\n",
        "# Mostrar el valor óptimo de la función objetivo sin aproximaciones\n",
        "print(\"Costo mínimo SIN aproximaciones:\", prob_dieta.value)\n",
        "\n",
        "# Mostrar el valor óptimo de la función objetivo aproximado a dos decimales\n",
        "print(\"Costo mínimo aproximada a dos decimales:\", \"%.2f\"% prob_dieta.value, \"\\n\")\n",
        "\n",
        "# Mostrar los valores óptimos de las variables de decisión sin aproximaciones\n",
        "print(\"Cantidad de libras de maíz que minimizan el costo SIN aproximaciones:\",\\\n",
        "      maiz.value)\n",
        "print(\"Cantidad de libras de soya que minimizan el costo SIN aproximaciones:\", \\\n",
        "      soya.value, \"\\n\")\n",
        "\n",
        "# Mostrar los valores óptimos de las variables de decisión aproximado a\n",
        "# dos decimales\n",
        "print(\"Cantidad de libras de maíz que minimizan el costo aproximada a dos \\\n",
        "decimales:\", \"%.2f\"%  maiz.value)\n",
        "print(\"Cantidad de libras de soya que minimizan el costo aproximada a dos \\\n",
        "decimales:\", \"%.2f\"%  soya.value)"
      ],
      "execution_count": null,
      "outputs": [
        {
          "output_type": "stream",
          "name": "stdout",
          "text": [
            "Estado de la solución: optimal\n",
            "Costo mínimo SIN aproximaciones: 437.64705882254106\n",
            "Costo mínimo aproximada a dos decimales: 437.65 \n",
            "\n",
            "Cantidad de libras de maíz que minimizan el costo SIN aproximaciones: 470.58823529023397\n",
            "Cantidad de libras de soya que minimizan el costo SIN aproximaciones: 329.4117647060787 \n",
            "\n",
            "Cantidad de libras de maíz que minimizan el costo aproximada a dos decimales: 470.59\n",
            "Cantidad de libras de soya que minimizan el costo aproximada a dos decimales: 329.41\n"
          ]
        }
      ]
    },
    {
      "cell_type": "markdown",
      "source": [
        "# Ejercicios"
      ],
      "metadata": {
        "id": "hfp66KZgVdSA"
      }
    },
    {
      "cell_type": "markdown",
      "source": [
        "## Bank One\n",
        "\n",
        "Resuelva con CVXPY el ejemplo 2.4-1 (Modelo de préstamo bancario) del libro de (TAHA, 2012) página 35.\n",
        "\n"
      ],
      "metadata": {
        "id": "4kpeP548VfWv"
      }
    },
    {
      "cell_type": "code",
      "source": [
        "# Resuelva en esta celda el ejercicio\n",
        "# Ejemplo 2.1-1 del libro de TAHA (Compañía Reddy Mikks)\n",
        "\n",
        "# Importar la librería que se va a utilizar\n",
        "import cvxpy as cvx\n",
        "\n",
        "# Crear las variables de decisión y las restricciones de no negatividad\n",
        "p_personal = cvx.Variable(nonneg = True)\n",
        "p_auto = cvx.Variable(nonneg = True)\n",
        "p_casa = cvx.Variable(nonneg = True)\n",
        "p_agricola = cvx.Variable(nonneg = True)\n",
        "p_comercial = cvx.Variable(nonneg = True)\n",
        "\n",
        "# Definir la función objetivo para maximizar el ingreso\n",
        "obj_bank_one = cvx.Maximize(.026*p_personal + .0509*p_auto + .0864*p_casa + .06875*p_agricola + .078*p_comercial)\n",
        "\n",
        "# Establecer las restricciones\n",
        "restricciones_bank_one = [\n",
        "\n",
        "# fondos totales\n",
        "p_personal + p_auto + p_casa + p_agricola + p_comercial <= 12,\n",
        "\n",
        "# prestamo agricola y cmercial\n",
        "0.4*p_personal + 0.4*p_auto + 0.4*p_casa - 0.6*p_agricola - 0.6*p_comercial <= 0,\n",
        "\n",
        "# prestamos para casa\n",
        "0.5*p_personal + 0.5*p_auto - 0.5*p_casa <= 0,\n",
        "\n",
        "# deudas impagables\n",
        "0.06*p_personal + 0.03*p_auto - 0.01*p_casa + 0.01*p_agricola - 0.02*p_comercial <= 0\n",
        "]\n",
        "\n",
        "# Configurar el problema\n",
        "prob_bank_one = cvx.Problem(obj_bank_one, restricciones_bank_one)\n",
        "\n",
        "# Obtener el valor óptimo\n",
        "prob_bank_one.solve()\n",
        "\n",
        "# Mostrar el estado de la solución\n",
        "print(\"Estado de la solución:\", prob_bank_one.status)\n",
        "\n",
        "# Mostrar el valor óptimo de la función objetivo sin aproximaciones\n",
        "print(\"Utilidad máxima SIN aproximaciones:\", prob_bank_one.value)\n",
        "\n",
        "# Mostrar el valor óptimo de la función objetivo aproximado a dos decimales\n",
        "print(\"Utilidad máxima aproximada a dos decimales:\", \"%.2f\"% prob_bank_one.value)\n",
        "\n",
        "# Mostrar los valores óptimos de las variables de decisión\n",
        "print(\"valores optimos para perstamos personales:\", \"%.2f\"% p_personal.value)\n",
        "print(\"valores optimos para perstamos de auto:\", \"%.2f\"% p_auto.value)\n",
        "print(\"valores optimos para perstamos de casa:\", \"%.2f\"% p_casa.value)\n",
        "print(\"valores optimos para perstamos agricolas:\", \"%.2f\"%  p_agricola.value)\n",
        "print(\"valores optimos para perstamos comerciales:\", \"%.2f\"% p_comercial.value)"
      ],
      "metadata": {
        "id": "n2v2uvLkZD0s",
        "colab": {
          "base_uri": "https://localhost:8080/"
        },
        "outputId": "7ef4f7c9-293e-4340-f422-2b3d945bef4d"
      },
      "execution_count": 8,
      "outputs": [
        {
          "output_type": "stream",
          "name": "stdout",
          "text": [
            "Estado de la solución: optimal\n",
            "Utilidad máxima SIN aproximaciones: 0.9964799998748162\n",
            "Utilidad máxima aproximada a dos decimales: 1.00\n",
            "valores optimos para perstamos personales: 0.00\n",
            "valores optimos para perstamos de auto: 0.00\n",
            "valores optimos para perstamos de casa: 7.20\n",
            "valores optimos para perstamos agricolas: 0.00\n",
            "valores optimos para perstamos comerciales: 4.80\n"
          ]
        }
      ]
    },
    {
      "cell_type": "code",
      "source": [
        "# Resuelva en esta celda el ejercicio\n",
        "# Importar la librería que se va a utilizar\n",
        "import cvxpy as cvx\n",
        "\n",
        "# Crear las variables de decisión y las restricciones de no negatividad\n",
        "az_morena = cvx.Variable(nonneg = True)\n",
        "az_blanca = cvx.Variable(nonneg = True)\n",
        "az_glas = cvx.Variable(nonneg = True)\n",
        "melazas = cvx.Variable(nonneg = True)\n",
        "\n",
        "\n",
        "# Definir la función objetivo para maximizar el ingreso\n",
        "obj_hawaii_sugar = cvx.Maximize(150*az_morena + 200*az_blanca + 230*az_glas + 35*melazas)\n",
        "\n",
        "# Establecer las restricciones\n",
        "restricciones_hawaii_sugar = [\n",
        "\n",
        "# produccion semanal minima\n",
        "az_morena >=25 ,\n",
        "az_blanca >=25 ,\n",
        "az_glas >=25 ,\n",
        "melazas >= 25 ,\n",
        "\n",
        "# produccion az_morena y jarabe\n",
        "0.3*az_morena + 0.1*melazas <= 4000 ,\n",
        "\n",
        "# produccion azucar blanca\n",
        "0.8*az_blanca - 1*az_morena == 0,\n",
        "\n",
        " # produccion azucar glas\n",
        "0.95*az_glas - 1*az_blanca == 0,\n",
        "\n",
        "]\n",
        "\n",
        "# Configurar el problema\n",
        "prob_hawaii_sugar = cvx.Problem(obj_hawaii_sugar, restricciones_hawaii_sugar)\n",
        "\n",
        "# Obtener el valor óptimo\n",
        "prob_hawaii_sugar.solve()\n",
        "\n",
        "\n",
        "\n",
        "# Mostrar el estado de la solución\n",
        "print(\"Estado de la solución:\", prob_hawaii_sugar.status)\n",
        "\n",
        "# Mostrar el valor óptimo de la función objetivo sin aproximaciones\n",
        "print(\"Utilidad máxima SIN aproximaciones:\", prob_hawaii_sugar.value)\n",
        "\n",
        "# Mostrar el valor óptimo de la función objetivo aproximado a dos decimales\n",
        "print(\"Utilidad máxima aproximada a dos decimales:\", \"%.2f\"% prob_hawaii_sugar.value)\n",
        "\n",
        "# Mostrar los valores óptimos de las variables de decisión\n",
        "print(\"valores optimos en tonaladas para azucar morena:\", \"%.2f\"% az_morena.value)\n",
        "print(\"valores optimos en tonaladas para azucar blanca:\", \"%.2f\"% az_blanca.value)\n",
        "print(\"valores optimos en tonaladas para azucar glas:\", \"%.2f\"% az_glas.value)\n",
        "print(\"valores optimos en tonaladas para melazas:\", \"%.2f\"%  melazas.value)\n",
        "\n",
        "\n"
      ],
      "metadata": {
        "id": "nEHnjFNraLvf",
        "colab": {
          "base_uri": "https://localhost:8080/"
        },
        "outputId": "d136d85f-0be0-4e36-bdcd-f1504c2c203a"
      },
      "execution_count": 14,
      "outputs": [
        {
          "output_type": "stream",
          "name": "stdout",
          "text": [
            "Estado de la solución: optimal\n",
            "Utilidad máxima SIN aproximaciones: 9363440.788646797\n",
            "Utilidad máxima aproximada a dos decimales: 9363440.79\n",
            "valores optimos en tonaladas para azucar morena: 13325.00\n",
            "valores optimos en tonaladas para azucar blanca: 16656.25\n",
            "valores optimos en tonaladas para azucar glas: 17532.89\n",
            "valores optimos en tonaladas para melazas: 25.00\n"
          ]
        }
      ]
    },
    {
      "cell_type": "markdown",
      "source": [
        "## Hawaii Sugar Company\n",
        "\n",
        "Resuelva con CVXPY el ejercicio 7 del libro de (TAHA, 2012) página 61."
      ],
      "metadata": {
        "id": "AWpJFnkfZE8X"
      }
    },
    {
      "cell_type": "markdown",
      "source": [
        "## Control de contaminación\n",
        "\n",
        "Resuelva con CVXPY el ejercicio 4 del libro de (TAHA, 2012) página 64."
      ],
      "metadata": {
        "id": "0hEyKcvlaM1p"
      }
    },
    {
      "cell_type": "code",
      "source": [
        "# Resuelva en esta celda el ejercicio\n"
      ],
      "metadata": {
        "id": "yN0MvrQ4ao7v"
      },
      "execution_count": null,
      "outputs": []
    }
  ]
}